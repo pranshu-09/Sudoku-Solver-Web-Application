{
 "cells": [
  {
   "cell_type": "markdown",
   "metadata": {},
   "source": [
    "# CNN Model for Digits Prediction"
   ]
  },
  {
   "cell_type": "markdown",
   "metadata": {},
   "source": [
    "Building the CNN Model for Predicting the Digits of Sudoku."
   ]
  },
  {
   "cell_type": "code",
   "execution_count": 1,
   "metadata": {
    "id": "fhd0YByx3P8P"
   },
   "outputs": [],
   "source": [
    "import numpy as np \n",
    "import os\n",
    "import cv2\n",
    "from sklearn.model_selection import train_test_split\n",
    "from tensorflow import keras\n",
    "from keras.utils.np_utils import to_categorical\n",
    "from tensorflow.keras.preprocessing.image import ImageDataGenerator\n",
    "from tensorflow.keras.models import Sequential\n",
    "from tensorflow.keras.layers import Activation, Dropout, Dense, Flatten, Conv2D, MaxPooling2D\n",
    "from tensorflow.keras.optimizers import RMSprop\n",
    "from tensorflow.keras.preprocessing import image"
   ]
  },
  {
   "cell_type": "markdown",
   "metadata": {},
   "source": []
  },
  {
   "cell_type": "markdown",
   "metadata": {},
   "source": [
    "## Loading the Char74K Image Dataset"
   ]
  },
  {
   "cell_type": "code",
   "execution_count": 2,
   "metadata": {
    "colab": {
     "base_uri": "https://localhost:8080/"
    },
    "id": "oGLtotBQcp-2",
    "outputId": "e7fb2f2c-6423-4d3d-c5d5-6bb73087f1ff"
   },
   "outputs": [
    {
     "name": "stdout",
     "output_type": "stream",
     "text": [
      "/content/drive/MyDrive/Project-2\n"
     ]
    }
   ],
   "source": [
    "%cd /content/drive/MyDrive/Project-2"
   ]
  },
  {
   "cell_type": "code",
   "execution_count": 3,
   "metadata": {
    "id": "GFYWmaMK1A91"
   },
   "outputs": [],
   "source": [
    "path = '/content/drive/MyDrive/Project-2/Dataset'"
   ]
  },
  {
   "cell_type": "code",
   "execution_count": 4,
   "metadata": {
    "id": "_C6oRFSg3LgC"
   },
   "outputs": [],
   "source": [
    "data = os.listdir(path)"
   ]
  },
  {
   "cell_type": "markdown",
   "metadata": {},
   "source": [
    "### Storing the Images and Labels in data_X and data_y"
   ]
  },
  {
   "cell_type": "code",
   "execution_count": 5,
   "metadata": {
    "colab": {
     "base_uri": "https://localhost:8080/"
    },
    "id": "FyblMo0Y3Tpy",
    "outputId": "1b50d397-782a-450b-8030-b10c0901f5b2"
   },
   "outputs": [
    {
     "name": "stdout",
     "output_type": "stream",
     "text": [
      "Total Dataponits =  10160\n"
     ]
    }
   ],
   "source": [
    "data_X = []     \n",
    "data_y = [] \n",
    "\n",
    "data_classes = len(data)\n",
    "\n",
    "for i in range (0,data_classes):\n",
    "    data_list = os.listdir(path +\"/\"+str(i))\n",
    "    for j in data_list:\n",
    "        pic = cv2.imread(path +\"/\"+str(i)+\"/\"+j)\n",
    "        pic = cv2.resize(pic,(40,40))\n",
    "        data_X.append(pic)\n",
    "        data_y.append(i)\n",
    "\n",
    "if len(data_X) == len(data_y):\n",
    "    print(\"Total Dataponits = \", len(data_X))\n",
    "\n",
    "# Labels and images\n",
    "data_X = np.array(data_X)\n",
    "data_y = np.array(data_y)"
   ]
  },
  {
   "cell_type": "code",
   "execution_count": null,
   "metadata": {},
   "outputs": [],
   "source": []
  },
  {
   "cell_type": "markdown",
   "metadata": {},
   "source": [
    "### Splitting the Train Data in Train Validation and Test Data"
   ]
  },
  {
   "cell_type": "code",
   "execution_count": 7,
   "metadata": {
    "id": "qJfWRYkG4xn-"
   },
   "outputs": [],
   "source": [
    "train_X, test_X, train_y, test_y = train_test_split(data_X,data_y,test_size=0.05)\n",
    "train_X, valid_X, train_y, valid_y = train_test_split(train_X,train_y,test_size=0.2)"
   ]
  },
  {
   "cell_type": "code",
   "execution_count": 8,
   "metadata": {
    "colab": {
     "base_uri": "https://localhost:8080/"
    },
    "id": "QN_AeB1L_bgM",
    "outputId": "35930aa3-5986-459f-dbf6-9cb85ff7528d"
   },
   "outputs": [
    {
     "data": {
      "text/plain": [
       "(508, 40, 40, 3)"
      ]
     },
     "execution_count": 8,
     "metadata": {
      "tags": []
     },
     "output_type": "execute_result"
    }
   ],
   "source": [
    "test_X.shape"
   ]
  },
  {
   "cell_type": "markdown",
   "metadata": {},
   "source": []
  },
  {
   "cell_type": "markdown",
   "metadata": {},
   "source": [
    "### Preprocessing and Reshaping the Images"
   ]
  },
  {
   "cell_type": "code",
   "execution_count": 9,
   "metadata": {
    "id": "OJfMS4Qp3l-G"
   },
   "outputs": [],
   "source": [
    "def Prep(img):\n",
    "    img = cv2.cvtColor(img,cv2.COLOR_BGR2GRAY)\n",
    "    img = cv2.equalizeHist(img) \n",
    "    img = img/255 \n",
    "    return img"
   ]
  },
  {
   "cell_type": "code",
   "execution_count": 10,
   "metadata": {
    "id": "y-nSGkpo47Fk"
   },
   "outputs": [],
   "source": [
    "train_X = np.array(list(map(Prep, train_X)))\n",
    "test_X = np.array(list(map(Prep, test_X)))\n",
    "valid_X= np.array(list(map(Prep, valid_X)))"
   ]
  },
  {
   "cell_type": "code",
   "execution_count": 11,
   "metadata": {
    "id": "BMd9uH0D4-Id"
   },
   "outputs": [],
   "source": [
    "train_X = train_X.reshape(train_X.shape[0], train_X.shape[1], train_X.shape[2],1)\n",
    "test_X = test_X.reshape(test_X.shape[0], test_X.shape[1], test_X.shape[2],1)\n",
    "valid_X = valid_X.reshape(valid_X.shape[0], valid_X.shape[1], valid_X.shape[2],1)"
   ]
  },
  {
   "cell_type": "code",
   "execution_count": 12,
   "metadata": {
    "colab": {
     "base_uri": "https://localhost:8080/"
    },
    "id": "HjtqbtZkK4lh",
    "outputId": "eee9d5c6-2c12-49b8-da5a-66cf5d7a14ea"
   },
   "outputs": [
    {
     "data": {
      "text/plain": [
       "(7721, 40, 40, 1)"
      ]
     },
     "execution_count": 12,
     "metadata": {
      "tags": []
     },
     "output_type": "execute_result"
    }
   ],
   "source": [
    "train_X.shape"
   ]
  },
  {
   "cell_type": "markdown",
   "metadata": {},
   "source": []
  },
  {
   "cell_type": "markdown",
   "metadata": {},
   "source": [
    "### Data Augmentation"
   ]
  },
  {
   "cell_type": "code",
   "execution_count": 13,
   "metadata": {
    "id": "1Xm71mp85A-w"
   },
   "outputs": [],
   "source": [
    "datagen = ImageDataGenerator(width_shift_range=0.1, height_shift_range=0.1, zoom_range=0.2, shear_range=0.1, rotation_range=10)\n",
    "datagen.fit(train_X)"
   ]
  },
  {
   "cell_type": "markdown",
   "metadata": {},
   "source": []
  },
  {
   "cell_type": "markdown",
   "metadata": {},
   "source": [
    "### Converting the Labels into One-Hot Encoded Form"
   ]
  },
  {
   "cell_type": "code",
   "execution_count": 14,
   "metadata": {
    "id": "SKFLa37q_1s2"
   },
   "outputs": [],
   "source": [
    "train_y = to_categorical(train_y, data_classes)\n",
    "test_y = to_categorical(test_y, data_classes)\n",
    "valid_y = to_categorical(valid_y, data_classes)"
   ]
  },
  {
   "cell_type": "markdown",
   "metadata": {},
   "source": []
  },
  {
   "cell_type": "markdown",
   "metadata": {},
   "source": []
  },
  {
   "cell_type": "markdown",
   "metadata": {},
   "source": [
    "## Building the CNN Model"
   ]
  },
  {
   "cell_type": "code",
   "execution_count": 15,
   "metadata": {
    "colab": {
     "base_uri": "https://localhost:8080/"
    },
    "id": "7U1LGmHW5Wwj",
    "outputId": "ea8c8c9b-4793-4e70-c1c1-dc154accf3f0"
   },
   "outputs": [
    {
     "name": "stdout",
     "output_type": "stream",
     "text": [
      "Model: \"sequential\"\n",
      "_________________________________________________________________\n",
      "Layer (type)                 Output Shape              Param #   \n",
      "=================================================================\n",
      "conv2d (Conv2D)              (None, 40, 40, 60)        1560      \n",
      "_________________________________________________________________\n",
      "conv2d_1 (Conv2D)            (None, 40, 40, 60)        90060     \n",
      "_________________________________________________________________\n",
      "max_pooling2d (MaxPooling2D) (None, 20, 20, 60)        0         \n",
      "_________________________________________________________________\n",
      "conv2d_2 (Conv2D)            (None, 20, 20, 30)        16230     \n",
      "_________________________________________________________________\n",
      "conv2d_3 (Conv2D)            (None, 20, 20, 30)        8130      \n",
      "_________________________________________________________________\n",
      "max_pooling2d_1 (MaxPooling2 (None, 10, 10, 30)        0         \n",
      "_________________________________________________________________\n",
      "dropout (Dropout)            (None, 10, 10, 30)        0         \n",
      "_________________________________________________________________\n",
      "flatten (Flatten)            (None, 3000)              0         \n",
      "_________________________________________________________________\n",
      "dense (Dense)                (None, 500)               1500500   \n",
      "_________________________________________________________________\n",
      "dropout_1 (Dropout)          (None, 500)               0         \n",
      "_________________________________________________________________\n",
      "dense_1 (Dense)              (None, 10)                5010      \n",
      "=================================================================\n",
      "Total params: 1,621,490\n",
      "Trainable params: 1,621,490\n",
      "Non-trainable params: 0\n",
      "_________________________________________________________________\n"
     ]
    }
   ],
   "source": [
    "model = Sequential()\n",
    "model.add((Conv2D(60,(5,5),input_shape=(40, 40, 1) ,padding = 'Same' ,activation='relu')))\n",
    "model.add((Conv2D(60, (5,5),padding=\"same\",activation='relu')))\n",
    "model.add(MaxPooling2D(pool_size=(2,2)))\n",
    "model.add((Conv2D(30, (3,3),padding=\"same\", activation='relu')))\n",
    "model.add((Conv2D(30, (3,3), padding=\"same\", activation='relu')))\n",
    "model.add(MaxPooling2D(pool_size=(2,2), strides=(2,2)))\n",
    "model.add(Dropout(0.5))\n",
    "model.add(Flatten())\n",
    "model.add(Dense(500,activation='relu'))\n",
    "model.add(Dropout(0.5))\n",
    "model.add(Dense(10, activation='softmax'))\n",
    "model.summary()"
   ]
  },
  {
   "cell_type": "markdown",
   "metadata": {},
   "source": []
  },
  {
   "cell_type": "markdown",
   "metadata": {},
   "source": [
    "### Compile the Model"
   ]
  },
  {
   "cell_type": "code",
   "execution_count": 16,
   "metadata": {
    "colab": {
     "base_uri": "https://localhost:8080/"
    },
    "id": "RONAjIps8oPh",
    "outputId": "08a39edc-592f-4d0b-8766-7d41abbc2e8e"
   },
   "outputs": [
    {
     "name": "stderr",
     "output_type": "stream",
     "text": [
      "/usr/local/lib/python3.7/dist-packages/tensorflow/python/keras/optimizer_v2/optimizer_v2.py:375: UserWarning: The `lr` argument is deprecated, use `learning_rate` instead.\n",
      "  \"The `lr` argument is deprecated, use `learning_rate` instead.\")\n"
     ]
    }
   ],
   "source": [
    "optimizer = RMSprop(lr=0.001, rho=0.9, epsilon = 1e-08, decay=0.0)\n",
    "model.compile(optimizer=optimizer,loss='categorical_crossentropy',metrics=['accuracy'])"
   ]
  },
  {
   "cell_type": "markdown",
   "metadata": {},
   "source": []
  },
  {
   "cell_type": "markdown",
   "metadata": {},
   "source": [
    "### Fit the model"
   ]
  },
  {
   "cell_type": "code",
   "execution_count": 17,
   "metadata": {
    "colab": {
     "base_uri": "https://localhost:8080/"
    },
    "id": "JYIS2wrQVTQf",
    "outputId": "15130444-0433-4a67-e1eb-82ce298397ed"
   },
   "outputs": [
    {
     "name": "stdout",
     "output_type": "stream",
     "text": [
      "Epoch 1/30\n",
      "200/200 - 35s - loss: 0.9900 - accuracy: 0.6648 - val_loss: 0.2475 - val_accuracy: 0.9187\n",
      "Epoch 2/30\n",
      "200/200 - 3s - loss: 0.2857 - accuracy: 0.9100 - val_loss: 0.0696 - val_accuracy: 0.9741\n",
      "Epoch 3/30\n",
      "200/200 - 3s - loss: 0.2069 - accuracy: 0.9348 - val_loss: 0.0410 - val_accuracy: 0.9850\n",
      "Epoch 4/30\n",
      "200/200 - 3s - loss: 0.1538 - accuracy: 0.9566 - val_loss: 0.0290 - val_accuracy: 0.9902\n",
      "Epoch 5/30\n",
      "200/200 - 3s - loss: 0.1294 - accuracy: 0.9589 - val_loss: 0.0318 - val_accuracy: 0.9912\n",
      "Epoch 6/30\n",
      "200/200 - 3s - loss: 0.1146 - accuracy: 0.9616 - val_loss: 0.0175 - val_accuracy: 0.9953\n",
      "Epoch 7/30\n",
      "200/200 - 3s - loss: 0.1126 - accuracy: 0.9655 - val_loss: 0.0225 - val_accuracy: 0.9922\n",
      "Epoch 8/30\n",
      "200/200 - 3s - loss: 0.1060 - accuracy: 0.9690 - val_loss: 0.0204 - val_accuracy: 0.9938\n",
      "Epoch 9/30\n",
      "200/200 - 3s - loss: 0.0918 - accuracy: 0.9727 - val_loss: 0.0311 - val_accuracy: 0.9907\n",
      "Epoch 10/30\n",
      "200/200 - 3s - loss: 0.0867 - accuracy: 0.9745 - val_loss: 0.0319 - val_accuracy: 0.9896\n",
      "Epoch 11/30\n",
      "200/200 - 3s - loss: 0.0860 - accuracy: 0.9737 - val_loss: 0.0199 - val_accuracy: 0.9969\n",
      "Epoch 12/30\n",
      "200/200 - 3s - loss: 0.0816 - accuracy: 0.9749 - val_loss: 0.0143 - val_accuracy: 0.9959\n",
      "Epoch 13/30\n",
      "200/200 - 3s - loss: 0.0805 - accuracy: 0.9763 - val_loss: 0.0359 - val_accuracy: 0.9922\n",
      "Epoch 14/30\n",
      "200/200 - 3s - loss: 0.0971 - accuracy: 0.9719 - val_loss: 0.0163 - val_accuracy: 0.9959\n",
      "Epoch 15/30\n",
      "200/200 - 3s - loss: 0.0805 - accuracy: 0.9771 - val_loss: 0.0142 - val_accuracy: 0.9969\n",
      "Epoch 16/30\n",
      "200/200 - 3s - loss: 0.0669 - accuracy: 0.9798 - val_loss: 0.0157 - val_accuracy: 0.9953\n",
      "Epoch 17/30\n",
      "200/200 - 3s - loss: 0.0771 - accuracy: 0.9780 - val_loss: 0.0128 - val_accuracy: 0.9959\n",
      "Epoch 18/30\n",
      "200/200 - 3s - loss: 0.0651 - accuracy: 0.9800 - val_loss: 0.0216 - val_accuracy: 0.9948\n",
      "Epoch 19/30\n",
      "200/200 - 3s - loss: 0.0795 - accuracy: 0.9786 - val_loss: 0.0239 - val_accuracy: 0.9938\n",
      "Epoch 20/30\n",
      "200/200 - 3s - loss: 0.0732 - accuracy: 0.9782 - val_loss: 0.0231 - val_accuracy: 0.9948\n",
      "Epoch 21/30\n",
      "200/200 - 3s - loss: 0.0706 - accuracy: 0.9806 - val_loss: 0.0151 - val_accuracy: 0.9974\n",
      "Epoch 22/30\n",
      "200/200 - 3s - loss: 0.0673 - accuracy: 0.9823 - val_loss: 0.0128 - val_accuracy: 0.9974\n",
      "Epoch 23/30\n",
      "200/200 - 3s - loss: 0.0758 - accuracy: 0.9802 - val_loss: 0.0170 - val_accuracy: 0.9969\n",
      "Epoch 24/30\n",
      "200/200 - 3s - loss: 0.0655 - accuracy: 0.9826 - val_loss: 0.0201 - val_accuracy: 0.9964\n",
      "Epoch 25/30\n",
      "200/200 - 3s - loss: 0.0799 - accuracy: 0.9788 - val_loss: 0.0180 - val_accuracy: 0.9948\n",
      "Epoch 26/30\n",
      "200/200 - 3s - loss: 0.0712 - accuracy: 0.9791 - val_loss: 0.0168 - val_accuracy: 0.9969\n",
      "Epoch 27/30\n",
      "200/200 - 3s - loss: 0.0770 - accuracy: 0.9802 - val_loss: 0.0172 - val_accuracy: 0.9938\n",
      "Epoch 28/30\n",
      "200/200 - 3s - loss: 0.0846 - accuracy: 0.9821 - val_loss: 0.0148 - val_accuracy: 0.9969\n",
      "Epoch 29/30\n",
      "200/200 - 3s - loss: 0.0729 - accuracy: 0.9826 - val_loss: 0.0063 - val_accuracy: 0.9984\n",
      "Epoch 30/30\n",
      "200/200 - 3s - loss: 0.0629 - accuracy: 0.9836 - val_loss: 0.0122 - val_accuracy: 0.9974\n"
     ]
    },
    {
     "data": {
      "text/plain": [
       "<tensorflow.python.keras.callbacks.History at 0x7f49a40b5950>"
      ]
     },
     "execution_count": 17,
     "metadata": {
      "tags": []
     },
     "output_type": "execute_result"
    }
   ],
   "source": [
    "model.fit(datagen.flow(train_X, train_y, batch_size=32), epochs = 30, validation_data = (valid_X, valid_y), verbose = 2, steps_per_epoch= 200)"
   ]
  },
  {
   "cell_type": "markdown",
   "metadata": {},
   "source": []
  },
  {
   "cell_type": "markdown",
   "metadata": {},
   "source": [
    "### Testing the Model's Score and Accuracy on the Test Data "
   ]
  },
  {
   "cell_type": "code",
   "execution_count": 18,
   "metadata": {
    "colab": {
     "base_uri": "https://localhost:8080/"
    },
    "id": "1sS1IPwzVXGg",
    "outputId": "dea39c6c-4ca1-43eb-cb75-dd1092ed6f8d"
   },
   "outputs": [
    {
     "name": "stdout",
     "output_type": "stream",
     "text": [
      "Test Score =  0.02114090509712696\n",
      "Test Accuracy = 0.9940944910049438\n"
     ]
    }
   ],
   "source": [
    "score = model.evaluate(test_X, test_y, verbose=0)\n",
    "print('Test Score = ',score[0])\n",
    "print('Test Accuracy =', score[1])"
   ]
  },
  {
   "cell_type": "markdown",
   "metadata": {},
   "source": []
  },
  {
   "cell_type": "markdown",
   "metadata": {},
   "source": [
    "### Saving the Model"
   ]
  },
  {
   "cell_type": "code",
   "execution_count": 19,
   "metadata": {
    "id": "H9KrA0na_Cz4"
   },
   "outputs": [],
   "source": [
    "model.save('Model.h5')\n",
    "model.save_weights('Model_weights.h5')"
   ]
  },
  {
   "cell_type": "code",
   "execution_count": null,
   "metadata": {
    "id": "BTg0t7mHOwYM"
   },
   "outputs": [],
   "source": []
  }
 ],
 "metadata": {
  "accelerator": "GPU",
  "colab": {
   "collapsed_sections": [],
   "name": "sudoku_number_prediction.ipynb",
   "provenance": []
  },
  "kernelspec": {
   "display_name": "Python 3",
   "language": "python",
   "name": "python3"
  },
  "language_info": {
   "codemirror_mode": {
    "name": "ipython",
    "version": 3
   },
   "file_extension": ".py",
   "mimetype": "text/x-python",
   "name": "python",
   "nbconvert_exporter": "python",
   "pygments_lexer": "ipython3",
   "version": "3.7.6"
  }
 },
 "nbformat": 4,
 "nbformat_minor": 4
}
